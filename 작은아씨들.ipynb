{
 "cells": [
  {
   "cell_type": "code",
   "execution_count": 50,
   "metadata": {},
   "outputs": [
    {
     "data": {
      "text/plain": [
       "[['                                The Woodcutter\\U000f0851s Ax   '],\n",
       " [''],\n",
       " ['◆ Cast '],\n",
       " ['  ♥ The Woodcutter'],\n",
       " ['  ♥ The Water God'],\n",
       " ['  ♥ The Friend'],\n",
       " [''],\n",
       " ['Scene 1'],\n",
       " [''],\n",
       " ['(In the woods. The Woodcutter is cutting woods. He is working hard.)'],\n",
       " [''],\n",
       " [\"Woodcutter: Oh, no, the ax went off the handle. There is a pond, and it's falling into it. What am I going to do? I can't work without my ax. What will my poor family eat?\"],\n",
       " [''],\n",
       " ['(He sits down by the pond and cries. The Water God comes out of the pond.)'],\n",
       " [''],\n",
       " ['Water God: Who are you?'],\n",
       " ['Woodcutter: I am the poor Woodcutter.'],\n",
       " ['Water God: Why are you crying so sadly?'],\n",
       " ['Woodcutter: Because my ax fell into the pond. I can\\U000f0851t work without it. My poor family will be hungry. '],\n",
       " [\"Water God: Wait! I'll find it for you.\"],\n",
       " ['Woodcutter: Thank you, sir.'],\n",
       " [''],\n",
       " ['(The Water God goes into the pond, and comes out again. He has a'],\n",
       " ['gold ax in his hand.)'],\n",
       " [''],\n",
       " ['Water God: Is this your ax?'],\n",
       " ['Woodcutter: No, sir. Mine is an old one.'],\n",
       " [''],\n",
       " ['(The Water God goes in again. This time he comes out with a silver ax.)'],\n",
       " [''],\n",
       " ['Water God: Then is this yours?'],\n",
       " ['Woodcutter: No, sir. That is not mine. '],\n",
       " [''],\n",
       " [\"(The Water God goes in, and comes out with the Woodcutter's old ax.)\"],\n",
       " [''],\n",
       " ['Water God: What about this one?'],\n",
       " ['Woodcutter: Thank you, sir. That is mine. I am so happy. '],\n",
       " ['Water God: You are a good man. I know you are telling the truth. For that, I will give you the gold ax and the silver ax, too. Take them.'],\n",
       " ['Woodcutter: Thank you very much. You are very kind.'],\n",
       " [''],\n",
       " ['(The Water God goes back into the pond.)'],\n",
       " [''],\n",
       " ['Scene 2'],\n",
       " [''],\n",
       " ['(In the village. The Woodcutter is showing his friend the gold and'],\n",
       " ['silver axes.)'],\n",
       " [''],\n",
       " ['Woodcutter: Look at these axes!'],\n",
       " ['Friend: Where did you get them? Are you really gold and silver?'],\n",
       " ['Woodcutter: Yes, of course. The Water God gave them to me. My ax fell into the pond. I cried, because I could not work. He came out gave them to me. '],\n",
       " ['Friend: Just like that?'],\n",
       " ['Woodcutter: Yes, it was like a dream.'],\n",
       " ['Friend: Where was the pond?'],\n",
       " ['Woodcutter: It is in the woods.'],\n",
       " ['Friend: The one near the big rock?'],\n",
       " [\"Woodcutter: Yes, that's the one. \"],\n",
       " ['Friend: You were very lucky.'],\n",
       " ['Woodcutter: Yes, I was. He was very kind.'],\n",
       " [''],\n",
       " ['(They go home together.)'],\n",
       " [''],\n",
       " ['Scene 3'],\n",
       " [''],\n",
       " ['(In the woods. By the pond.)'],\n",
       " [''],\n",
       " [\"Friend: I want to get gold and silver axes, too. I'll throw this old ax into the pond. (He throw it into the pond, and cries.) Oh, my ax. Boo-hoo-hoo..... Please, God, help me.\"],\n",
       " [''],\n",
       " ['(The Water God comes out of the pond.)'],\n",
       " [''],\n",
       " ['Water God: Who is crying this time? Why are you crying?'],\n",
       " [\"Friend: I am a poor woodcutter. My ax fell into the pond. I have no money. I can't work without it.\"],\n",
       " ['Water God: I will find it for you. (The Water God goes into the pond. He comes out again with a gold ax.) Is this your ax?'],\n",
       " ['Friend: Yes, sir, it is my ax.'],\n",
       " ['Water God: You are telling lie. You are a bad man. Good-Bye.'],\n",
       " [\"Friend: But wait, then please give me my ax. (But Water God is not there.) I don't even have my old ax. Oh, dear. Oh, dear.\"],\n",
       " [''],\n",
       " ['']]"
      ]
     },
     "execution_count": 50,
     "metadata": {},
     "output_type": "execute_result"
    }
   ],
   "source": [
    "with open ('C:/Users/castl/Desktop/gold_silver_ax.txt',encoding='utf-8') as f:\n",
    "    data=[line.split('\\n')for line in f.read().splitlines()]\n",
    "    data=data[:]\n",
    "data "
   ]
  },
  {
   "cell_type": "code",
   "execution_count": 35,
   "metadata": {},
   "outputs": [
    {
     "name": "stdout",
     "output_type": "stream",
     "text": [
      "총샘플수: 12278\n"
     ]
    }
   ],
   "source": [
    "import pandas as pd\n",
    "import numpy as np\n",
    "import nltk\n",
    "from nltk.corpus import stopwords\n",
    "from tensorflow.keras.preprocessing.text import Tokenizer\n",
    "\n",
    "\n",
    "print('총샘플수:',len(data))\n",
    "\n",
    "sherlock_df = pd.DataFrame({'document':data})\n",
    "sherlock_df['clean_doc'] = sherlock_df['document'].str.replace(\"[^a-zA-Z]\", \" \")"
   ]
  },
  {
   "cell_type": "code",
   "execution_count": 51,
   "metadata": {},
   "outputs": [
    {
     "ename": "ModuleNotFoundError",
     "evalue": "No module named 'gensim'",
     "output_type": "error",
     "traceback": [
      "\u001b[1;31m---------------------------------------------------------------------------\u001b[0m",
      "\u001b[1;31mModuleNotFoundError\u001b[0m                       Traceback (most recent call last)",
      "\u001b[1;32m<ipython-input-51-90c1d0a3f095>\u001b[0m in \u001b[0;36m<module>\u001b[1;34m\u001b[0m\n\u001b[0;32m     26\u001b[0m \u001b[1;33m\u001b[0m\u001b[0m\n\u001b[0;32m     27\u001b[0m \u001b[1;31m# Word2vec\u001b[0m\u001b[1;33m\u001b[0m\u001b[1;33m\u001b[0m\u001b[1;33m\u001b[0m\u001b[0m\n\u001b[1;32m---> 28\u001b[1;33m \u001b[1;32mimport\u001b[0m \u001b[0mgensim\u001b[0m\u001b[1;33m\u001b[0m\u001b[1;33m\u001b[0m\u001b[0m\n\u001b[0m\u001b[0;32m     29\u001b[0m \u001b[1;33m\u001b[0m\u001b[0m\n\u001b[0;32m     30\u001b[0m \u001b[1;31m# Utility\u001b[0m\u001b[1;33m\u001b[0m\u001b[1;33m\u001b[0m\u001b[1;33m\u001b[0m\u001b[0m\n",
      "\u001b[1;31mModuleNotFoundError\u001b[0m: No module named 'gensim'"
     ]
    }
   ],
   "source": [
    "import pandas as pd\n",
    "\n",
    "# Matplot\n",
    "import matplotlib.pyplot as plt\n",
    "%matplotlib inline\n",
    "\n",
    "# Scikit-learn\n",
    "from sklearn.model_selection import train_test_split\n",
    "from sklearn.preprocessing import LabelEncoder\n",
    "from sklearn.metrics import confusion_matrix, classification_report, accuracy_score\n",
    "from sklearn.manifold import TSNE\n",
    "from sklearn.feature_extraction.text import TfidfVectorizer\n",
    "\n",
    "# Keras\n",
    "from keras.preprocessing.text import Tokenizer\n",
    "from keras.preprocessing.sequence import pad_sequences\n",
    "from keras.models import Sequential\n",
    "from keras.layers import Activation, Dense, Dropout, Embedding, Flatten, Conv1D, MaxPooling1D, LSTM\n",
    "from keras import utils\n",
    "from keras.callbacks import ReduceLROnPlateau, EarlyStopping\n",
    "\n",
    "# nltk\n",
    "import nltk\n",
    "from nltk.corpus import stopwords\n",
    "from  nltk.stem import SnowballStemmer\n",
    "\n",
    "# Word2vec\n",
    "import gensim\n",
    "\n",
    "# Utility\n",
    "import re\n",
    "import numpy as np\n",
    "import os\n",
    "from collections import Counter\n",
    "import logging\n",
    "import time\n",
    "import pickle\n",
    "import itertools\n",
    "\n",
    "# Set log\n",
    "logging.basicConfig(format='%(asctime)s : %(levelname)s : %(message)s', level=logging.INFO)"
   ]
  },
  {
   "cell_type": "code",
   "execution_count": 52,
   "metadata": {},
   "outputs": [],
   "source": [
    "# DATASET\n",
    "DATASET_COLUMNS = [\"target\", \"ids\", \"date\", \"flag\", \"user\", \"text\"]\n",
    "DATASET_ENCODING = \"ISO-8859-1\"\n",
    "TRAIN_SIZE = 0.8\n",
    "\n",
    "# TEXT CLENAING\n",
    "TEXT_CLEANING_RE = \"@\\S+|https?:\\S+|http?:\\S|[^A-Za-z0-9]+\"\n",
    "\n",
    "# WORD2VEC \n",
    "W2V_SIZE = 300\n",
    "W2V_WINDOW = 7\n",
    "W2V_EPOCH = 32\n",
    "W2V_MIN_COUNT = 10\n",
    "\n",
    "# KERAS\n",
    "SEQUENCE_LENGTH = 300\n",
    "EPOCHS = 8\n",
    "BATCH_SIZE = 1024\n",
    "\n",
    "# SENTIMENT\n",
    "POSITIVE = \"POSITIVE\"\n",
    "NEGATIVE = \"NEGATIVE\"\n",
    "NEUTRAL = \"NEUTRAL\"\n",
    "SENTIMENT_THRESHOLDS = (0.4, 0.7)\n",
    "\n",
    "# EXPORT\n",
    "KERAS_MODEL = \"model.h5\"\n",
    "WORD2VEC_MODEL = \"model.w2v\"\n",
    "TOKENIZER_MODEL = \"tokenizer.pkl\"\n",
    "ENCODER_MODEL = \"encoder.pkl\"\n"
   ]
  },
  {
   "cell_type": "code",
   "execution_count": null,
   "metadata": {},
   "outputs": [],
   "source": []
  }
 ],
 "metadata": {
  "kernelspec": {
   "display_name": "Python 3",
   "language": "python",
   "name": "python3"
  },
  "language_info": {
   "codemirror_mode": {
    "name": "ipython",
    "version": 3
   },
   "file_extension": ".py",
   "mimetype": "text/x-python",
   "name": "python",
   "nbconvert_exporter": "python",
   "pygments_lexer": "ipython3",
   "version": "3.7.7"
  }
 },
 "nbformat": 4,
 "nbformat_minor": 4
}
